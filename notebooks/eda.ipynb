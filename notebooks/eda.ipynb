{
 "cells": [
  {
   "cell_type": "code",
   "execution_count": 3,
   "id": "7af0a5f2-c2eb-42de-8c92-e9b630bcdb1d",
   "metadata": {},
   "outputs": [],
   "source": [
    "from src.utils import *\n",
    "from src.features import *\n",
    "from src.models import *"
   ]
  },
  {
   "cell_type": "code",
   "execution_count": null,
   "id": "084db519-08de-4497-884a-f8f61186e5f2",
   "metadata": {},
   "outputs": [],
   "source": []
  }
 ],
 "metadata": {
  "kernelspec": {
   "display_name": "Python (Aeroclub)",
   "language": "python",
   "name": "aeroclub"
  },
  "language_info": {
   "codemirror_mode": {
    "name": "ipython",
    "version": 3
   },
   "file_extension": ".py",
   "mimetype": "text/x-python",
   "name": "python",
   "nbconvert_exporter": "python",
   "pygments_lexer": "ipython3",
   "version": "3.10.18"
  }
 },
 "nbformat": 4,
 "nbformat_minor": 5
}
