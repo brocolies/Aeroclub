{
 "cells": [
  {
   "cell_type": "code",
   "execution_count": 17,
   "id": "5ce50f5a-b08e-4ad7-8773-73a6f44578fa",
   "metadata": {},
   "outputs": [
    {
     "name": "stdout",
     "output_type": "stream",
     "text": [
      "The autoreload extension is already loaded. To reload it, use:\n",
      "  %reload_ext autoreload\n"
     ]
    }
   ],
   "source": [
    "%load_ext autoreload\n",
    "%autoreload 2\n",
    "\n",
    "import pandas as pd\n",
    "import numpy as np\n",
    "import matplotlib.pyplot as plt\n",
    "import seaborn as sns\n",
    "import pyarrow\n",
    "import sys\n",
    "import os\n",
    "sys.path.append(os.path.abspath('..'))\n",
    "\n",
    "from sklearn.model_selection import StratifiedKFold\n",
    "from sklearn.preprocessing import OneHotEncoder\n",
    "from sklearn.compose import make_column_transformer\n",
    "from lightgbm import LGBMClassifier\n",
    "from sklearn.pipeline import make_pipeline\n",
    "\n",
    "from src.utils import *\n",
    "from src.features import *\n",
    "from src.models import *"
   ]
  },
  {
   "cell_type": "code",
   "execution_count": 3,
   "id": "9b4daf76-7957-422d-9e02-cd84ffb237e0",
   "metadata": {},
   "outputs": [
    {
     "name": "stdout",
     "output_type": "stream",
     "text": [
      "Train shape: (18145372, 126)\n",
      "Test shape: (6897776, 125)\n"
     ]
    }
   ],
   "source": [
    "train = pd.read_parquet('../data/train.parquet')\n",
    "print(\"Train shape:\", train.shape)\n",
    "test = pd.read_parquet('../data/test.parquet')\n",
    "print(\"Test shape:\", test.shape)"
   ]
  },
  {
   "cell_type": "code",
   "execution_count": 4,
   "id": "a9d1c251-a69a-4c75-8597-571cd3f30511",
   "metadata": {},
   "outputs": [
    {
     "data": {
      "text/html": [
       "<div>\n",
       "<style scoped>\n",
       "    .dataframe tbody tr th:only-of-type {\n",
       "        vertical-align: middle;\n",
       "    }\n",
       "\n",
       "    .dataframe tbody tr th {\n",
       "        vertical-align: top;\n",
       "    }\n",
       "\n",
       "    .dataframe thead th {\n",
       "        text-align: right;\n",
       "    }\n",
       "</style>\n",
       "<table border=\"1\" class=\"dataframe\">\n",
       "  <thead>\n",
       "    <tr style=\"text-align: right;\">\n",
       "      <th></th>\n",
       "      <th>Id</th>\n",
       "      <th>bySelf</th>\n",
       "      <th>companyID</th>\n",
       "      <th>corporateTariffCode</th>\n",
       "      <th>frequentFlyer</th>\n",
       "      <th>nationality</th>\n",
       "      <th>isAccess3D</th>\n",
       "      <th>isVip</th>\n",
       "      <th>legs0_arrivalAt</th>\n",
       "      <th>legs0_departureAt</th>\n",
       "      <th>...</th>\n",
       "      <th>pricingInfo_isAccessTP</th>\n",
       "      <th>pricingInfo_passengerCount</th>\n",
       "      <th>profileId</th>\n",
       "      <th>ranker_id</th>\n",
       "      <th>requestDate</th>\n",
       "      <th>searchRoute</th>\n",
       "      <th>sex</th>\n",
       "      <th>taxes</th>\n",
       "      <th>totalPrice</th>\n",
       "      <th>selected</th>\n",
       "    </tr>\n",
       "  </thead>\n",
       "  <tbody>\n",
       "    <tr>\n",
       "      <th>0</th>\n",
       "      <td>0</td>\n",
       "      <td>True</td>\n",
       "      <td>57323</td>\n",
       "      <td>&lt;NA&gt;</td>\n",
       "      <td>S7/SU/UT</td>\n",
       "      <td>36</td>\n",
       "      <td>False</td>\n",
       "      <td>False</td>\n",
       "      <td>2024-06-15T16:20:00</td>\n",
       "      <td>2024-06-15T15:40:00</td>\n",
       "      <td>...</td>\n",
       "      <td>1.0</td>\n",
       "      <td>1</td>\n",
       "      <td>2087645</td>\n",
       "      <td>98ce0dabf6964640b63079fbafd42cbe</td>\n",
       "      <td>2024-05-17 03:03:08</td>\n",
       "      <td>TLKKJA/KJATLK</td>\n",
       "      <td>True</td>\n",
       "      <td>370.0</td>\n",
       "      <td>16884.0</td>\n",
       "      <td>1</td>\n",
       "    </tr>\n",
       "    <tr>\n",
       "      <th>1</th>\n",
       "      <td>1</td>\n",
       "      <td>True</td>\n",
       "      <td>57323</td>\n",
       "      <td>123</td>\n",
       "      <td>S7/SU/UT</td>\n",
       "      <td>36</td>\n",
       "      <td>True</td>\n",
       "      <td>False</td>\n",
       "      <td>2024-06-15T14:50:00</td>\n",
       "      <td>2024-06-15T09:25:00</td>\n",
       "      <td>...</td>\n",
       "      <td>1.0</td>\n",
       "      <td>1</td>\n",
       "      <td>2087645</td>\n",
       "      <td>98ce0dabf6964640b63079fbafd42cbe</td>\n",
       "      <td>2024-05-17 03:03:08</td>\n",
       "      <td>TLKKJA/KJATLK</td>\n",
       "      <td>True</td>\n",
       "      <td>2240.0</td>\n",
       "      <td>51125.0</td>\n",
       "      <td>0</td>\n",
       "    </tr>\n",
       "    <tr>\n",
       "      <th>2</th>\n",
       "      <td>2</td>\n",
       "      <td>True</td>\n",
       "      <td>57323</td>\n",
       "      <td>&lt;NA&gt;</td>\n",
       "      <td>S7/SU/UT</td>\n",
       "      <td>36</td>\n",
       "      <td>False</td>\n",
       "      <td>False</td>\n",
       "      <td>2024-06-15T14:50:00</td>\n",
       "      <td>2024-06-15T09:25:00</td>\n",
       "      <td>...</td>\n",
       "      <td>1.0</td>\n",
       "      <td>1</td>\n",
       "      <td>2087645</td>\n",
       "      <td>98ce0dabf6964640b63079fbafd42cbe</td>\n",
       "      <td>2024-05-17 03:03:08</td>\n",
       "      <td>TLKKJA/KJATLK</td>\n",
       "      <td>True</td>\n",
       "      <td>2240.0</td>\n",
       "      <td>53695.0</td>\n",
       "      <td>0</td>\n",
       "    </tr>\n",
       "    <tr>\n",
       "      <th>3</th>\n",
       "      <td>3</td>\n",
       "      <td>True</td>\n",
       "      <td>57323</td>\n",
       "      <td>123</td>\n",
       "      <td>S7/SU/UT</td>\n",
       "      <td>36</td>\n",
       "      <td>True</td>\n",
       "      <td>False</td>\n",
       "      <td>2024-06-15T14:50:00</td>\n",
       "      <td>2024-06-15T09:25:00</td>\n",
       "      <td>...</td>\n",
       "      <td>1.0</td>\n",
       "      <td>1</td>\n",
       "      <td>2087645</td>\n",
       "      <td>98ce0dabf6964640b63079fbafd42cbe</td>\n",
       "      <td>2024-05-17 03:03:08</td>\n",
       "      <td>TLKKJA/KJATLK</td>\n",
       "      <td>True</td>\n",
       "      <td>2240.0</td>\n",
       "      <td>81880.0</td>\n",
       "      <td>0</td>\n",
       "    </tr>\n",
       "    <tr>\n",
       "      <th>4</th>\n",
       "      <td>4</td>\n",
       "      <td>True</td>\n",
       "      <td>57323</td>\n",
       "      <td>&lt;NA&gt;</td>\n",
       "      <td>S7/SU/UT</td>\n",
       "      <td>36</td>\n",
       "      <td>False</td>\n",
       "      <td>False</td>\n",
       "      <td>2024-06-15T14:50:00</td>\n",
       "      <td>2024-06-15T09:25:00</td>\n",
       "      <td>...</td>\n",
       "      <td>1.0</td>\n",
       "      <td>1</td>\n",
       "      <td>2087645</td>\n",
       "      <td>98ce0dabf6964640b63079fbafd42cbe</td>\n",
       "      <td>2024-05-17 03:03:08</td>\n",
       "      <td>TLKKJA/KJATLK</td>\n",
       "      <td>True</td>\n",
       "      <td>2240.0</td>\n",
       "      <td>86070.0</td>\n",
       "      <td>0</td>\n",
       "    </tr>\n",
       "  </tbody>\n",
       "</table>\n",
       "<p>5 rows × 126 columns</p>\n",
       "</div>"
      ],
      "text/plain": [
       "   Id  bySelf  companyID  corporateTariffCode frequentFlyer  nationality  \\\n",
       "0   0    True      57323                 <NA>      S7/SU/UT           36   \n",
       "1   1    True      57323                  123      S7/SU/UT           36   \n",
       "2   2    True      57323                 <NA>      S7/SU/UT           36   \n",
       "3   3    True      57323                  123      S7/SU/UT           36   \n",
       "4   4    True      57323                 <NA>      S7/SU/UT           36   \n",
       "\n",
       "   isAccess3D  isVip      legs0_arrivalAt    legs0_departureAt  ...  \\\n",
       "0       False  False  2024-06-15T16:20:00  2024-06-15T15:40:00  ...   \n",
       "1        True  False  2024-06-15T14:50:00  2024-06-15T09:25:00  ...   \n",
       "2       False  False  2024-06-15T14:50:00  2024-06-15T09:25:00  ...   \n",
       "3        True  False  2024-06-15T14:50:00  2024-06-15T09:25:00  ...   \n",
       "4       False  False  2024-06-15T14:50:00  2024-06-15T09:25:00  ...   \n",
       "\n",
       "  pricingInfo_isAccessTP pricingInfo_passengerCount profileId  \\\n",
       "0                    1.0                          1   2087645   \n",
       "1                    1.0                          1   2087645   \n",
       "2                    1.0                          1   2087645   \n",
       "3                    1.0                          1   2087645   \n",
       "4                    1.0                          1   2087645   \n",
       "\n",
       "                          ranker_id         requestDate    searchRoute   sex  \\\n",
       "0  98ce0dabf6964640b63079fbafd42cbe 2024-05-17 03:03:08  TLKKJA/KJATLK  True   \n",
       "1  98ce0dabf6964640b63079fbafd42cbe 2024-05-17 03:03:08  TLKKJA/KJATLK  True   \n",
       "2  98ce0dabf6964640b63079fbafd42cbe 2024-05-17 03:03:08  TLKKJA/KJATLK  True   \n",
       "3  98ce0dabf6964640b63079fbafd42cbe 2024-05-17 03:03:08  TLKKJA/KJATLK  True   \n",
       "4  98ce0dabf6964640b63079fbafd42cbe 2024-05-17 03:03:08  TLKKJA/KJATLK  True   \n",
       "\n",
       "    taxes totalPrice selected  \n",
       "0   370.0    16884.0        1  \n",
       "1  2240.0    51125.0        0  \n",
       "2  2240.0    53695.0        0  \n",
       "3  2240.0    81880.0        0  \n",
       "4  2240.0    86070.0        0  \n",
       "\n",
       "[5 rows x 126 columns]"
      ]
     },
     "execution_count": 4,
     "metadata": {},
     "output_type": "execute_result"
    }
   ],
   "source": [
    "train.head()"
   ]
  },
  {
   "cell_type": "code",
   "execution_count": 6,
   "id": "8f123423-958b-4e37-a6f5-70bc5e85549a",
   "metadata": {},
   "outputs": [
    {
     "name": "stdout",
     "output_type": "stream",
     "text": [
      "=== Basic EDA ===\n",
      "Total Users: 32,922\n",
      "Total Items: 18,145,372\n",
      "Total Sessions: 105,539\n",
      "Select Rate: 0.0058\n",
      "\n",
      "Per Session: count    105539.000000\n",
      "mean        171.930490\n",
      "std         445.940118\n",
      "min           1.000000\n",
      "25%          19.000000\n",
      "50%          50.000000\n",
      "75%         154.000000\n",
      "max        8236.000000\n",
      "dtype: float64\n"
     ]
    }
   ],
   "source": [
    "print('=== Basic EDA ===')\n",
    "print(f\"Total Users: {train['profileId'].nunique():,}\")\n",
    "print(f\"Total Items: {train['Id'].nunique():,}\")\n",
    "print(f\"Total Sessions: {train['ranker_id'].nunique():,}\")\n",
    "# 한번의 검색에서 사용자가 제시받는 항공편 옵션들 = 1 session\n",
    "print(f\"Select Rate: {train['selected'].mean():.4f}\")\n",
    "\n",
    "# 세션당 후보 수 분포\n",
    "session_sizes = train.groupby('ranker_id').size()\n",
    "# ranker_id(1개의 세션)의 크기 -> 몇 개의 항공편이 제시되었는지 확인\n",
    "print(f\"\\nPer Session: {session_sizes.describe()}\")"
   ]
  },
  {
   "cell_type": "code",
   "execution_count": 7,
   "id": "2b4ce7d0-10af-4408-8837-6c0482a3ca86",
   "metadata": {},
   "outputs": [
    {
     "name": "stdout",
     "output_type": "stream",
     "text": [
      "실제 예약으로 이어진 세션 비율: 1.0000\n"
     ]
    }
   ],
   "source": [
    "session_stats = train.groupby('ranker_id')['selected'].agg(['sum', 'count'])\n",
    "sessions_with_selection = (session_stats['sum'] > 0).sum()\n",
    "print(f\"실제 예약으로 이어진 세션 비율: {sessions_with_selection/len(session_stats):.4f}\")"
   ]
  },
  {
   "cell_type": "code",
   "execution_count": 8,
   "id": "f3ae8f1d-fd20-4b3c-8bc5-9c9a940a564d",
   "metadata": {},
   "outputs": [
    {
     "data": {
      "image/png": "[encoded data removed]",
      "text/plain": [
       "<Figure size 640x480 with 1 Axes>"
      ]
     },
     "metadata": {},
     "output_type": "display_data"
    }
   ],
   "source": [
    "sns.countplot(data=train, x='selected')\n",
    "plt.title('Target Data Distribution')\n",
    "plt.show()"
   ]
  },
  {
   "cell_type": "code",
   "execution_count": 23,
   "id": "609b19c5-ce62-4cf3-9af2-2b81cb158acc",
   "metadata": {},
   "outputs": [],
   "source": [
    "date = train['requestDate'].dt.date.value_counts().sort_index()\n",
    "date = pd.to_datetime(date)"
   ]
  },
  {
   "cell_type": "code",
   "execution_count": 25,
   "id": "ba75c6e9-3b39-432d-942e-0946998b81d7",
   "metadata": {},
   "outputs": [],
   "source": [
    "categorical_cols = train.select_dtypes(include=['object', 'category']).columns\n",
    "numerical_cols = train.select_dtypes(include=[np.number]).columns"
   ]
  },
  {
   "cell_type": "code",
   "execution_count": 30,
   "id": "b1f24cde-539d-4947-a1ee-4b1513f76cac",
   "metadata": {},
   "outputs": [
    {
     "data": {
      "text/plain": [
       "dtype('O')"
      ]
     },
     "execution_count": 30,
     "metadata": {},
     "output_type": "execute_result"
    }
   ],
   "source": [
    "train['legs0_arrivalAt'].dtype"
   ]
  },
  {
   "cell_type": "code",
   "execution_count": null,
   "id": "4eceda78-4061-4776-8d65-7653ce3234cd",
   "metadata": {},
   "outputs": [],
   "source": [
    "    for col in df.columns:\n",
    "        # 1. 이미 datetime64 타입인 경우\n",
    "        if pd.api.types.is_datetime64_any_dtype(df[col]):\n",
    "            datetime_cols.append(col)\n",
    "        # 2. 숫자형 타입인 경우 (int, float)\n",
    "        elif pd.api.types.is_numeric_dtype(df[col]):\n",
    "            numerical_cols.append(col)\n",
    "        # 3. 객체(object) 타입인 경우: 문자열일 가능성이 높으므로 추가 분류 필요\n",
    "        elif pd.api.types.is_object_dtype(df[col]):\n",
    "            # 3-1. datetime으로 변환 가능한지 시도\n",
    "            # errors='coerce'를 사용하여 변환 불가능한 값은 NaT로 만듭니다.\n",
    "            temp_datetime_series = pd.to_datetime(df[col], errors='coerce')\n",
    "\n",
    "            # NaT가 아닌 값의 비율을 계산하여 datetime 여부 판단\n",
    "            # NaT가 아닌 유효한 날짜가 datetime_threshold 이상이어야 datetime으로 간주\n",
    "            valid_datetime_ratio = temp_datetime_series.count() / len(temp_datetime_series)\n",
    "\n",
    "            if valid_datetime_ratio >= datetime_threshold:\n",
    "                datetime_cols.append(col)\n",
    "            # 3-2. datetime으로 분류되지 않으면 범주형으로 간주\n",
    "            else:\n",
    "                categorical_cols.append(col)\n",
    "        # 4. 불리언(bool) 타입은 일반적으로 범주형 또는 이진 숫자형으로 처리될 수 있지만\n",
    "        # 여기서는 편의상 numerical로 분류합니다. (0 또는 1로 변환 가능)\n",
    "        # 필요에 따라 bool_cols를 따로 만들거나 categorical에 넣을 수 있습니다.\n",
    "        elif pd.api.types.is_bool_dtype(df[col]):\n",
    "            numerical_cols.append(col)\n",
    "\n",
    "    return categorical_cols, datetime_cols, numerical_cols\n"
   ]
  }
 ],
 "metadata": {
  "kernelspec": {
   "display_name": "Python (Aeroclub)",
   "language": "python",
   "name": "aeroclub"
  },
  "language_info": {
   "codemirror_mode": {
    "name": "ipython",
    "version": 3
   },
   "file_extension": ".py",
   "mimetype": "text/x-python",
   "name": "python",
   "nbconvert_exporter": "python",
   "pygments_lexer": "ipython3",
   "version": "3.10.13"
  }
 },
 "nbformat": 4,
 "nbformat_minor": 5
}
