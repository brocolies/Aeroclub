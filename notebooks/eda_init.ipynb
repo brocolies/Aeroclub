{
 "cells": [
  {
   "cell_type": "code",
   "execution_count": null,
   "id": "5ce50f5a-b08e-4ad7-8773-73a6f44578fa",
   "metadata": {},
   "outputs": [],
   "source": [
    "%load_ext autoreload\n",
    "%autoreload 2\n",
    "\n",
    "import pandas as pd\n",
    "import numpy as np\n",
    "import matplotlib.pyplot as plt\n",
    "import seaborn as sns\n",
    "import pyarrow\n",
    "import sys\n",
    "import os\n",
    "sys.path.append(os.path.abspath('..'))\n",
    "\n",
    "from src.utils import *\n",
    "from src.features import *\n",
    "from src.models import *"
   ]
  },
  {
   "cell_type": "code",
   "execution_count": null,
   "id": "9b4daf76-7957-422d-9e02-cd84ffb237e0",
   "metadata": {},
   "outputs": [],
   "source": [
    "train = pd.read_parquet('../data/train.parquet')\n",
    "print(\"Train shape:\", train.shape)\n",
    "test = pd.read_parquet('../data/test.parquet')\n",
    "print(\"Test shape:\", test.shape)"
   ]
  },
  {
   "cell_type": "code",
   "execution_count": null,
   "id": "a9d1c251-a69a-4c75-8597-571cd3f30511",
   "metadata": {},
   "outputs": [],
   "source": [
    "train.head()"
   ]
  },
  {
   "cell_type": "code",
   "execution_count": null,
   "id": "8f123423-958b-4e37-a6f5-70bc5e85549a",
   "metadata": {},
   "outputs": [],
   "source": [
    "feature_table = resumetable(train, 'selected')"
   ]
  },
  {
   "cell_type": "code",
   "execution_count": null,
   "id": "87c81ff8-0bad-44a8-9551-44e5738f0d2f",
   "metadata": {},
   "outputs": [],
   "source": []
  },
  {
   "cell_type": "code",
   "execution_count": null,
   "id": "f3ae8f1d-fd20-4b3c-8bc5-9c9a940a564d",
   "metadata": {},
   "outputs": [],
   "source": []
  },
  {
   "cell_type": "code",
   "execution_count": null,
   "id": "609b19c5-ce62-4cf3-9af2-2b81cb158acc",
   "metadata": {},
   "outputs": [],
   "source": []
  }
 ],
 "metadata": {
  "kernelspec": {
   "display_name": "Python (Aeroclub)",
   "language": "python",
   "name": "aeroclub"
  },
  "language_info": {
   "codemirror_mode": {
    "name": "ipython",
    "version": 3
   },
   "file_extension": ".py",
   "mimetype": "text/x-python",
   "name": "python",
   "nbconvert_exporter": "python",
   "pygments_lexer": "ipython3",
   "version": "3.10.18"
  }
 },
 "nbformat": 4,
 "nbformat_minor": 5
}
