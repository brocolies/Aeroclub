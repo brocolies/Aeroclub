{
 "cells": [
  {
   "cell_type": "code",
   "execution_count": null,
   "id": "5ce50f5a-b08e-4ad7-8773-73a6f44578fa",
   "metadata": {},
   "outputs": [],
   "source": [
    "%load_ext autoreload\n",
    "%autoreload 2\n",
    "\n",
    "import pandas as pd\n",
    "import numpy as np\n",
    "import matplotlib.pyplot as plt\n",
    "import seaborn as sns\n",
    "import pyarrow\n",
    "import sys\n",
    "import os\n",
    "sys.path.append(os.path.abspath('..'))\n",
    "\n",
    "from sklearn.model_selection import StratifiedKFold\n",
    "from sklearn.preprocessing import OneHotEncoder, LabelEncoder\n",
    "from sklearn.compose import make_column_transformer\n",
    "from lightgbm import LGBMClassifier\n",
    "from sklearn.pipeline import make_pipeline\n",
    "\n",
    "from src.utils import *\n",
    "from src.aeroclub import *\n",
    "from src.models import *"
   ]
  },
  {
   "cell_type": "code",
   "execution_count": null,
   "id": "9b4daf76-7957-422d-9e02-cd84ffb237e0",
   "metadata": {},
   "outputs": [],
   "source": [
    "train = pd.read_parquet('../data/train.parquet')\n",
    "print(\"Train shape:\", train.shape)\n",
    "test = pd.read_parquet('../data/test.parquet')\n",
    "print(\"Test shape:\", test.shape)"
   ]
  },
  {
   "cell_type": "code",
   "execution_count": null,
   "id": "c342828e-df23-496b-8dec-764e5d4ed597",
   "metadata": {},
   "outputs": [],
   "source": [
    "train_df = safe_optimize_dtypes(train)"
   ]
  },
  {
   "cell_type": "code",
   "execution_count": null,
   "id": "8f123423-958b-4e37-a6f5-70bc5e85549a",
   "metadata": {},
   "outputs": [],
   "source": [
    "print('=== Basic EDA ===')\n",
    "print(f\"Total Users: {train['profileId'].nunique():,}\")\n",
    "print(f\"Total Items: {train['Id'].nunique():,}\")\n",
    "print(f\"Total Sessions: {train['ranker_id'].nunique():,}\")\n",
    "# 한번의 검색에서 사용자가 제시받는 항공편 옵션들 = 1 session\n",
    "print(f\"Select Rate: {train['selected'].mean():.4f}\")\n",
    "\n",
    "# 세션당 후보 수 분포\n",
    "session_sizes = train.groupby('ranker_id').size()\n",
    "# ranker_id(1개의 세션)의 크기 -> 몇 개의 항공편이 제시되었는지 확인\n",
    "print(f\"\\nPer Session: {session_sizes.describe()}\")"
   ]
  },
  {
   "cell_type": "code",
   "execution_count": null,
   "id": "f3ae8f1d-fd20-4b3c-8bc5-9c9a940a564d",
   "metadata": {},
   "outputs": [],
   "source": [
    "sns.countplot(data=train, x='selected')\n",
    "plt.title('Target Data Distribution')\n",
    "plt.show()"
   ]
  },
  {
   "cell_type": "code",
   "execution_count": null,
   "id": "609b19c5-ce62-4cf3-9af2-2b81cb158acc",
   "metadata": {
    "scrolled": true
   },
   "outputs": [],
   "source": [
    "cat_cols, num_cols, date_cols, id_cols = get_column_types(train)"
   ]
  },
  {
   "cell_type": "code",
   "execution_count": null,
   "id": "dd50044a-9308-4fb1-bb22-b49d4b0f1e4b",
   "metadata": {},
   "outputs": [],
   "source": [
    "mean_score, std_score, scores = run_baseline_cv(train, cat_cols, date_cols=date_cols)"
   ]
  },
  {
   "cell_type": "code",
   "execution_count": 1,
   "id": "a63ff37f-4e93-4565-8c9a-ce1ff3996685",
   "metadata": {},
   "outputs": [],
   "source": [
    "# s-kfold 사용 x"
   ]
  },
  {
   "cell_type": "code",
   "execution_count": null,
   "id": "b951be61-3df0-4d7d-aca1-4c5cca7a68d6",
   "metadata": {},
   "outputs": [],
   "source": []
  }
 ],
 "metadata": {
  "kernelspec": {
   "display_name": "Python (Aeroclub)",
   "language": "python",
   "name": "aeroclub"
  },
  "language_info": {
   "codemirror_mode": {
    "name": "ipython",
    "version": 3
   },
   "file_extension": ".py",
   "mimetype": "text/x-python",
   "name": "python",
   "nbconvert_exporter": "python",
   "pygments_lexer": "ipython3",
   "version": "3.10.13"
  }
 },
 "nbformat": 4,
 "nbformat_minor": 5
}
